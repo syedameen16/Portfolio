{
 "cells": [
  {
   "cell_type": "markdown",
   "id": "9278224d",
   "metadata": {},
   "source": [
    "# Blinkit Analysis"
   ]
  },
  {
   "cell_type": "markdown",
   "id": "ed80742a",
   "metadata": {},
   "source": [
    "# Import Libraries"
   ]
  },
  {
   "cell_type": "code",
   "execution_count": null,
   "id": "f9af3e77",
   "metadata": {},
   "outputs": [],
   "source": [
    "import pandas as pd\n",
    "import numpy as np\n",
    "import matplotlib.pyplot as plt\n",
    "import seaborn as sns"
   ]
  },
  {
   "cell_type": "markdown",
   "id": "6facf50e",
   "metadata": {},
   "source": [
    "# Import Raw Data"
   ]
  },
  {
   "cell_type": "code",
   "execution_count": null,
   "id": "933eb08b",
   "metadata": {},
   "outputs": [],
   "source": [
    "df=pd.read_csv('blinkit_data.csv')"
   ]
  },
  {
   "cell_type": "code",
   "execution_count": null,
   "id": "1b9efb6f",
   "metadata": {},
   "outputs": [],
   "source": [
    "df.head()"
   ]
  },
  {
   "cell_type": "code",
   "execution_count": null,
   "id": "e953e2da",
   "metadata": {},
   "outputs": [],
   "source": [
    "df.info()"
   ]
  },
  {
   "cell_type": "code",
   "execution_count": null,
   "id": "770c3f7b",
   "metadata": {},
   "outputs": [],
   "source": [
    "df.describe()"
   ]
  },
  {
   "cell_type": "code",
   "execution_count": null,
   "id": "1980c150",
   "metadata": {},
   "outputs": [],
   "source": [
    "df.shape"
   ]
  },
  {
   "cell_type": "code",
   "execution_count": null,
   "id": "a6b707a7",
   "metadata": {},
   "outputs": [],
   "source": [
    "df.columns"
   ]
  },
  {
   "cell_type": "markdown",
   "id": "29eb9174",
   "metadata": {},
   "source": [
    "# Data Cleaning"
   ]
  },
  {
   "cell_type": "code",
   "execution_count": null,
   "id": "28fb745f",
   "metadata": {},
   "outputs": [],
   "source": [
    "df['Item Fat Content'].unique()"
   ]
  },
  {
   "cell_type": "code",
   "execution_count": null,
   "id": "12754278",
   "metadata": {},
   "outputs": [],
   "source": [
    "df['Item Fat Content'] = df['Item Fat Content'].replace({'LF':'Low Fat','low fat':'Low Fat','reg':'Regular'})"
   ]
  },
  {
   "cell_type": "markdown",
   "id": "6246117a",
   "metadata": {},
   "source": [
    "# Buisness Requirement"
   ]
  },
  {
   "cell_type": "markdown",
   "id": "9e537ccc",
   "metadata": {},
   "source": [
    "KPI's Requirement"
   ]
  },
  {
   "cell_type": "markdown",
   "id": "459ce4fd",
   "metadata": {},
   "source": [
    "1. Total Sales: The overall revenue generated from all items sold."
   ]
  },
  {
   "cell_type": "code",
   "execution_count": null,
   "id": "94b2a8d1",
   "metadata": {},
   "outputs": [],
   "source": [
    "total_sales = df['Sales'].sum()\n",
    "print(total_sales)"
   ]
  },
  {
   "cell_type": "markdown",
   "id": "18e891f1",
   "metadata": {},
   "source": [
    "2. Average Sales: The average revenue per sale."
   ]
  },
  {
   "cell_type": "code",
   "execution_count": null,
   "id": "884198f9",
   "metadata": {},
   "outputs": [],
   "source": [
    "avg_sales = df['Sales'].mean()\n",
    "print(avg_sales)"
   ]
  },
  {
   "cell_type": "markdown",
   "id": "74430d9d",
   "metadata": {},
   "source": [
    "3. Number of Items: The total count of different items sold."
   ]
  },
  {
   "cell_type": "code",
   "execution_count": null,
   "id": "5ef6feb1",
   "metadata": {},
   "outputs": [],
   "source": [
    "no_of_items_sold = df['Sales'].count()\n",
    "print(no_of_items_sold)"
   ]
  },
  {
   "cell_type": "markdown",
   "id": "e48a0c17",
   "metadata": {},
   "source": [
    "4. Average Rating: The average customer rating for items sold."
   ]
  },
  {
   "cell_type": "code",
   "execution_count": null,
   "id": "b8eac9aa",
   "metadata": {},
   "outputs": [],
   "source": [
    "avg_ratings = df['Rating'].mean()\n",
    "print(avg_ratings)"
   ]
  },
  {
   "cell_type": "markdown",
   "id": "3e6b057e",
   "metadata": {},
   "source": [
    "# Chart's Requirements"
   ]
  },
  {
   "cell_type": "markdown",
   "id": "d944d6af",
   "metadata": {},
   "source": [
    "1. Total Sales by Fat Content:"
   ]
  },
  {
   "cell_type": "code",
   "execution_count": 45,
   "id": "c51e2358",
   "metadata": {},
   "outputs": [
    {
     "data": {
      "image/png": "[encoded data removed]",
      "text/plain": [
       "<Figure size 640x480 with 1 Axes>"
      ]
     },
     "metadata": {},
     "output_type": "display_data"
    }
   ],
   "source": [
    "sales_by_fat = df.groupby('Item Fat Content')['Sales'].sum()\n",
    "\n",
    "plt.pie(sales_by_fat,labels=sales_by_fat.index,autopct='%.1f%%',startangle=90)\n",
    "plt.title('Sales by Fat Content')\n",
    "plt.axis('equal')\n",
    "plt.show()\n"
   ]
  },
  {
   "cell_type": "markdown",
   "id": "b28a4171",
   "metadata": {},
   "source": [
    "2. Total Sales by Item Type:"
   ]
  },
  {
   "cell_type": "code",
   "execution_count": null,
   "id": "be5dc5cc",
   "metadata": {},
   "outputs": [],
   "source": [
    "sales_by_type = df.groupby('Item Type')['Sales'].sum().sort_values(ascending=False)\n",
    "\n",
    "plt.figure(figsize=(10, 6))\n",
    "bars = plt.bar(sales_by_type.index, sales_by_type.values)   \n",
    "plt.xticks(rotation=-90)\n",
    "plt.xlabel('Item Type')\n",
    "plt.ylabel('Total Sales')\n",
    "plt.title('Total Sales by Item Type')\n",
    "for bar in bars:\n",
    "    plt.text(bar.get_x() + bar.get_width() / 2, \n",
    "             bar.get_height(), \n",
    "             f'{bar.get_height():,.0f}', \n",
    "             ha='center', va='bottom', fontsize=8)\n",
    "\n",
    "plt.tight_layout()\n",
    "plt.show()\n"
   ]
  },
  {
   "cell_type": "markdown",
   "id": "1f38d407",
   "metadata": {},
   "source": [
    "3. Fat Content by Outlet for Total Sales:"
   ]
  },
  {
   "cell_type": "code",
   "execution_count": null,
   "id": "6cd9a02d",
   "metadata": {},
   "outputs": [],
   "source": [
    "grouped = df.groupby(['Outlet Location Type', 'Item Fat Content']) ['Sales'].sum().unstack()\n",
    "grouped = grouped [['Regular', 'Low Fat']]\n",
    "\n",
    "ax = grouped.plot(kind='bar', figsize=(8, 5), title='Outlet Tier by Item Fat Content')\n",
    "\n",
    "plt.xlabel('Outlet Location Tier')\n",
    "plt.ylabel('Total Sales')\n",
    "plt.legend(title='Item Fat Content')\n",
    "plt.tight_layout()\n",
    "\n",
    "plt.show()"
   ]
  },
  {
   "cell_type": "markdown",
   "id": "4286fc28",
   "metadata": {},
   "source": [
    "4. Total Sales by Outlet Establishment:"
   ]
  },
  {
   "cell_type": "code",
   "execution_count": null,
   "id": "05fb1fef",
   "metadata": {},
   "outputs": [],
   "source": [
    "sales_by_year = df.groupby('Outlet Establishment Year') ['Sales'].sum().sort_index()\n",
    "\n",
    "plt.figure(figsize=(9,5))\n",
    "plt.plot(sales_by_year.index, sales_by_year.values, marker='o', linestyle='-')\n",
    "\n",
    "plt.xlabel('Outlet Establishment Year')\n",
    "plt.ylabel('Total Sales')\n",
    "plt.title('Outlet Establishment')\n",
    "\n",
    "for x, y in zip(sales_by_year.index, sales_by_year.values):\n",
    "    plt.text(x, y, f'(y:,.0f)', ha='center', va='bottom', fontsize=8)\n",
    "plt.tight_layout()\n",
    "\n",
    "plt.show()"
   ]
  },
  {
   "cell_type": "markdown",
   "id": "f9582397",
   "metadata": {},
   "source": [
    "5. Sales by Outlet Size:"
   ]
  },
  {
   "cell_type": "code",
   "execution_count": null,
   "id": "08a10140",
   "metadata": {},
   "outputs": [],
   "source": [
    "sales_by_size = df.groupby('Outlet Size')['Sales'].sum()\n",
    "\n",
    "plt.figure(figsize=(4, 4))\n",
    "\n",
    "plt.pie(sales_by_size, \n",
    "        labels=sales_by_size.index, \n",
    "        autopct='%1.1f%%', \n",
    "        startangle=90)\n",
    "\n",
    "plt.title('Sales by Outlet Size')\n",
    "plt.tight_layout()\n",
    "plt.show()\n"
   ]
  },
  {
   "cell_type": "markdown",
   "id": "2aacc2e4",
   "metadata": {},
   "source": [
    "6. Sales by Outlet"
   ]
  },
  {
   "cell_type": "code",
   "execution_count": null,
   "id": "1f026eed",
   "metadata": {},
   "outputs": [],
   "source": [
    "sales_by_location = df.groupby ('Outlet Location Type') ['Sales'].sum().reset_index()\n",
    "sales_by_location = sales_by_location.sort_values('Sales', ascending=False)\n",
    "\n",
    "plt.figure(figsize=(8, 3)) # Smaller height, enough width\n",
    "\n",
    "ax = sns.barplot(x='Sales', y='Outlet Location Type', data=sales_by_location)\n",
    "plt.title('Total Sales by Outlet Location Type')\n",
    "plt.xlabel('Total Sales')\n",
    "plt.ylabel('Outlet Location Type')\n",
    "plt.tight_layout() #Ensures Layout fits without scroll\n",
    "\n",
    "plt.show()"
   ]
  }
 ],
 "metadata": {
  "kernelspec": {
   "display_name": "Python 3",
   "language": "python",
   "name": "python3"
  },
  "language_info": {
   "codemirror_mode": {
    "name": "ipython",
    "version": 3
   },
   "file_extension": ".py",
   "mimetype": "text/x-python",
   "name": "python",
   "nbconvert_exporter": "python",
   "pygments_lexer": "ipython3",
   "version": "3.13.5"
  }
 },
 "nbformat": 4,
 "nbformat_minor": 5
}
